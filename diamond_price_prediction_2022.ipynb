{
 "cells": [
  {
   "cell_type": "code",
   "execution_count": null,
   "metadata": {
    "datalore": {
     "hide_input_from_viewers": false,
     "hide_output_from_viewers": false,
     "node_id": "BuFCTtgHkkzrh8scziN4e9",
     "report_properties": {
      "rowId": "VPgQOcNTFm2SNBMXH4vqAv"
     },
     "type": "CODE"
    }
   },
   "outputs": [],
   "source": [
    "import pandas as pd\n",
    "import numpy as np\n",
    "import matplotlib.pyplot as plt\n",
    "import seaborn as sns\n",
    "import re\n",
    "%matplotlib inline"
   ]
  },
  {
   "cell_type": "markdown",
   "metadata": {
    "datalore": {
     "hide_input_from_viewers": false,
     "hide_output_from_viewers": false,
     "node_id": "Yc2K6LOy8dL4wLj6HonYOz",
     "report_properties": {
      "rowId": "TpxgnCfiu7EhSVAIwUnRmJ"
     },
     "type": "MD"
    }
   },
   "source": [
    "# data overview"
   ]
  },
  {
   "cell_type": "code",
   "execution_count": null,
   "metadata": {
    "datalore": {
     "hide_input_from_viewers": false,
     "hide_output_from_viewers": false,
     "node_id": "O7H8e1sR4wiWQCO6EnvuUA",
     "report_properties": {
      "rowId": "jiQ5QUAeMjJVF1hYhcMYTR"
     },
     "type": "CODE"
    }
   },
   "outputs": [],
   "source": [
    "main_df = pd.read_csv(\"data/diamonds.csv\")\n",
    "main_df.info()"
   ]
  },
  {
   "cell_type": "code",
   "execution_count": null,
   "metadata": {
    "datalore": {
     "hide_input_from_viewers": false,
     "hide_output_from_viewers": false,
     "node_id": "ljCROEB2bB4VQIULBrrN2g",
     "report_properties": {
      "rowId": "MymNACKUK84ElTeykDrqn0"
     },
     "type": "CODE"
    }
   },
   "outputs": [],
   "source": [
    "main_df.isna().sum()"
   ]
  },
  {
   "cell_type": "code",
   "execution_count": null,
   "metadata": {
    "datalore": {
     "hide_input_from_viewers": false,
     "hide_output_from_viewers": false,
     "node_id": "n0pWnK2MTiQOri3Bf5LmvF",
     "report_properties": {
      "rowId": "kkgic2zAa4uaP3c7Jma8hf"
     },
     "type": "CODE"
    },
    "scrolled": true
   },
   "outputs": [],
   "source": [
    "main_df.head()"
   ]
  },
  {
   "cell_type": "markdown",
   "metadata": {
    "datalore": {
     "hide_input_from_viewers": false,
     "hide_output_from_viewers": false,
     "node_id": "J5wlqrcyaFtZhgqs9Izuwv",
     "report_properties": {
      "rowId": "RHSn9VdRReaCOj3E0afuFz"
     },
     "type": "MD"
    }
   },
   "source": [
    "# data preprocessing"
   ]
  },
  {
   "cell_type": "code",
   "execution_count": null,
   "metadata": {
    "datalore": {
     "hide_input_from_viewers": false,
     "hide_output_from_viewers": false,
     "node_id": "OUIq4bP9DsUHP4zk9UhmNZ",
     "report_properties": {
      "rowId": "Twz0KZNzOazW1QSyvPodAH"
     },
     "type": "CODE"
    }
   },
   "outputs": [],
   "source": [
    "# drop identifier column \"diamond_id\"\n",
    "df = main_df.drop(\"diamond_id\", axis = 1)"
   ]
  },
  {
   "cell_type": "markdown",
   "metadata": {
    "datalore": {
     "hide_input_from_viewers": false,
     "hide_output_from_viewers": false,
     "node_id": "g7om0Ztw7LoobCAuYxp52K",
     "report_properties": {
      "rowId": "tXKkC6eAZs3J5i5JBsIxTJ"
     },
     "type": "MD"
    }
   },
   "source": [
    "## category and object datatype column"
   ]
  },
  {
   "cell_type": "markdown",
   "metadata": {
    "datalore": {
     "hide_input_from_viewers": false,
     "hide_output_from_viewers": false,
     "node_id": "y4CUm9ew4JzEgam72KBm53",
     "report_properties": {
      "rowId": "bBmdjY0YOpo6jI6H1jlF4z"
     },
     "type": "MD"
    }
   },
   "source": [
    "### handling color columns of diamond"
   ]
  },
  {
   "cell_type": "code",
   "execution_count": null,
   "metadata": {
    "datalore": {
     "hide_input_from_viewers": false,
     "hide_output_from_viewers": false,
     "node_id": "rgsSlsnPg6Q3KeFeeoDFmr",
     "report_properties": {
      "rowId": "WCQhoR5WxKobuPqC2zfDyB"
     },
     "type": "CODE"
    }
   },
   "outputs": [],
   "source": [
    "# check color category\n",
    "df[\"color\"].unique()"
   ]
  },
  {
   "cell_type": "markdown",
   "metadata": {
    "datalore": {
     "hide_input_from_viewers": false,
     "hide_output_from_viewers": false,
     "node_id": "6Rk2lEPlQBRgjOH6Cxfdc1",
     "report_properties": {
      "rowId": "EMrP7uk4JSUjGQdq34YnNn"
     },
     "type": "MD"
    }
   },
   "source": [
    "there is nan value (missing)"
   ]
  },
  {
   "cell_type": "code",
   "execution_count": null,
   "metadata": {
    "datalore": {
     "hide_input_from_viewers": false,
     "hide_output_from_viewers": false,
     "node_id": "EHJB5oxxvM5Do3gYaKH86S",
     "report_properties": {
      "rowId": "FIsSeS5tLCmpm63h81WIqL"
     },
     "type": "CODE"
    }
   },
   "outputs": [],
   "source": [
    "# check data where color is not null for missing values\n",
    "df[df[\"color\"].notna()].isna().sum()"
   ]
  },
  {
   "cell_type": "code",
   "execution_count": null,
   "metadata": {
    "datalore": {
     "hide_input_from_viewers": false,
     "hide_output_from_viewers": false,
     "node_id": "AR5g9rV67FXpZluLQVUwgw",
     "report_properties": {
      "rowId": "s3KVqRtDVddRkgMgYJRjDu"
     },
     "type": "CODE"
    }
   },
   "outputs": [],
   "source": [
    "# how many row that color column has data. \n",
    "len(df[df[\"color\"].notna()])"
   ]
  },
  {
   "cell_type": "code",
   "execution_count": null,
   "metadata": {
    "datalore": {
     "hide_input_from_viewers": false,
     "hide_output_from_viewers": false,
     "node_id": "fn9BP9tQhdwlsGeFxqSSe3",
     "report_properties": {
      "rowId": "RXZhxGUpctPoJOVgfDzXuC"
     },
     "type": "CODE"
    }
   },
   "outputs": [],
   "source": [
    "# how many row that color is null but dominant colour has a value.\n",
    "len(df[df[\"color\"].isna() & df.fancy_color_dominant_color.notna()])"
   ]
  },
  {
   "cell_type": "markdown",
   "metadata": {
    "datalore": {
     "hide_input_from_viewers": false,
     "hide_output_from_viewers": false,
     "node_id": "F8wUUZjniuIcE4S4akJVI6",
     "report_properties": {
      "rowId": "L3EuVXkJtFrzQzZNP6TIrQ"
     },
     "type": "MD"
    }
   },
   "source": [
    "we will see many rows : if color is nan then fancy color column has a value in it.<br>\n",
    "210542 + 9162 =  219704(size of dataset)"
   ]
  },
  {
   "cell_type": "code",
   "execution_count": null,
   "metadata": {
    "datalore": {
     "hide_input_from_viewers": false,
     "hide_output_from_viewers": false,
     "node_id": "hNGgo8UPlfFUWY3fYVmbgw",
     "report_properties": {
      "rowId": "SduTzXLgxpyF3nbuCo3syv"
     },
     "type": "CODE"
    }
   },
   "outputs": [],
   "source": [
    "# observe where color is nan\n",
    "df[df[\"color\"].isna()]"
   ]
  },
  {
   "cell_type": "code",
   "execution_count": null,
   "metadata": {
    "datalore": {
     "hide_input_from_viewers": false,
     "hide_output_from_viewers": false,
     "node_id": "UbNGa5zhhoPbjwEeZWumTL",
     "report_properties": {
      "rowId": "mcii5r1bRe8OZff2zfVwYT"
     },
     "type": "CODE"
    }
   },
   "outputs": [],
   "source": [
    "# look inside data where colour is null\n",
    "df[df[\"color\"].isna()].isna().sum()"
   ]
  },
  {
   "cell_type": "markdown",
   "metadata": {
    "datalore": {
     "hide_input_from_viewers": false,
     "hide_output_from_viewers": false,
     "node_id": "rd9pzVlfPN34hmjKFwelGo",
     "report_properties": {
      "rowId": "nSOd9NGLgOt6ywZ3PeeyFn"
     },
     "type": "MD"
    }
   },
   "source": [
    "because we know that color in columns \n",
    "- color\n",
    "- fancy_color_dominant_color\n",
    "- fancy_color_secondary_color\n",
    "- fancy_color_overtone\n",
    "- fancy_color_intensity\n",
    "<br>is the separate type of color which is the same feature type, so we are going to merge them to one column. "
   ]
  },
  {
   "cell_type": "code",
   "execution_count": null,
   "metadata": {
    "datalore": {
     "hide_input_from_viewers": false,
     "hide_output_from_viewers": false,
     "node_id": "Ssu4DtZoJAKJahRDYj5T3X",
     "report_properties": {
      "rowId": "q3LNWpeSN69liSoDtN9GS8"
     },
     "type": "CODE"
    }
   },
   "outputs": [],
   "source": [
    "df[\"fancy_color_dominant_color\"].fillna(\"X\" ,inplace=True)\n",
    "df[\"fancy_color_secondary_color\"].fillna(\"X\" ,inplace=True)\n",
    "df[\"fancy_color_overtone\"].fillna(\"X\" ,inplace=True)\n",
    "df[\"fancy_color_intensity\"].fillna(\"X\" ,inplace=True)\n",
    "df[\"color\"].fillna(\"X\" ,inplace=True)\n",
    "df"
   ]
  },
  {
   "cell_type": "code",
   "execution_count": null,
   "metadata": {
    "datalore": {
     "hide_input_from_viewers": false,
     "hide_output_from_viewers": false,
     "node_id": "T5HhgjrFLJS4KCZyUhkzYX",
     "report_properties": {
      "rowId": "BrZ2naL1LPg6wcIsbzVNJ2"
     },
     "type": "CODE"
    }
   },
   "outputs": [],
   "source": [
    "col1 = df['fancy_color_dominant_color']\n",
    "col2 = df['fancy_color_secondary_color']\n",
    "col3 = df['fancy_color_overtone']\n",
    "col4 = df['fancy_color_intensity']\n",
    "col5 = df['color']\n",
    "df.loc[:, ['color_type']] = df['color'].str.cat([col1, col2, col3, col4, col5], sep =\"_\")\n",
    "df"
   ]
  },
  {
   "cell_type": "markdown",
   "metadata": {
    "datalore": {
     "hide_input_from_viewers": false,
     "hide_output_from_viewers": false,
     "node_id": "5Y14vQ7VyxnYMJOuHzwYPU",
     "report_properties": {
      "rowId": "PL0gaclLSS1Nf2nO6Av0yU"
     },
     "type": "MD"
    }
   },
   "source": [
    "Then drop all color columns that just merge into color_type"
   ]
  },
  {
   "cell_type": "code",
   "execution_count": null,
   "metadata": {
    "datalore": {
     "hide_input_from_viewers": false,
     "hide_output_from_viewers": false,
     "node_id": "v9lh1rL2425bTxIBZ3l0zA",
     "report_properties": {
      "rowId": "moOzx1SASwmNRo2JAyecmn"
     },
     "type": "CODE"
    }
   },
   "outputs": [],
   "source": [
    "df.drop(['color','fancy_color_dominant_color', 'fancy_color_secondary_color', 'fancy_color_overtone', 'fancy_color_intensity'], axis = 1, inplace=True)"
   ]
  },
  {
   "cell_type": "markdown",
   "metadata": {
    "datalore": {
     "hide_input_from_viewers": false,
     "hide_output_from_viewers": false,
     "node_id": "nQZPc7bmN19XQFLIkvMCOk",
     "report_properties": {
      "rowId": "mFnYXypPTf1Ys6Q7onXPXS"
     },
     "type": "MD"
    }
   },
   "source": [
    "color columns are categorical value.\n",
    "we'll start imputing and encoding later on this notebook"
   ]
  },
  {
   "cell_type": "markdown",
   "metadata": {
    "datalore": {
     "hide_input_from_viewers": false,
     "hide_output_from_viewers": false,
     "node_id": "KDxLNkGa8GHxxiRR4IxiuL",
     "report_properties": {
      "rowId": "qT4iJ6ScxjvI7Szml6wHiI"
     },
     "type": "MD"
    }
   },
   "source": [
    "### handling missing cut\n",
    "we will try to fill missing \"cut\" value using existed data on symmetry and polish column<br>  "
   ]
  },
  {
   "cell_type": "code",
   "execution_count": null,
   "metadata": {
    "datalore": {
     "hide_input_from_viewers": false,
     "hide_output_from_viewers": false,
     "node_id": "QkUOqcrmRdmNNIZxeLeP5S",
     "report_properties": {
      "rowId": "GzGoskv6uSH4nVzVUem7Fv"
     },
     "type": "CODE"
    }
   },
   "outputs": [],
   "source": [
    "df"
   ]
  },
  {
   "cell_type": "code",
   "execution_count": null,
   "metadata": {
    "datalore": {
     "hide_input_from_viewers": false,
     "hide_output_from_viewers": false,
     "node_id": "x5aMTslUKWPZrmQnmQg5u6",
     "report_properties": {
      "rowId": "UYXG0ywCZFwdBVpsofzF0V"
     },
     "type": "CODE"
    }
   },
   "outputs": [],
   "source": [
    "# find how many row that cut are nan\n",
    "df[\"cut\"].isna().sum()"
   ]
  },
  {
   "cell_type": "code",
   "execution_count": null,
   "metadata": {
    "datalore": {
     "hide_input_from_viewers": false,
     "hide_output_from_viewers": false,
     "node_id": "TKYSbdfpVydkETIoooN4DL",
     "report_properties": {
      "rowId": "hk0lXFBi8zcXvEZ8WHCq4D"
     },
     "type": "CODE"
    }
   },
   "outputs": [],
   "source": [
    "df[\"cut\"].value_counts()"
   ]
  },
  {
   "cell_type": "code",
   "execution_count": null,
   "metadata": {
    "datalore": {
     "hide_input_from_viewers": false,
     "hide_output_from_viewers": false,
     "node_id": "1eAivbogjZ6viH0oK8iNEa",
     "report_properties": {
      "rowId": "PKwh8pj0XTtGfPMmujoegl"
     },
     "type": "CODE"
    }
   },
   "outputs": [],
   "source": [
    "#plot for bar graph\n",
    "df[\"cut\"].value_counts().plot(kind=\"bar\")"
   ]
  },
  {
   "cell_type": "markdown",
   "metadata": {
    "datalore": {
     "hide_input_from_viewers": false,
     "hide_output_from_viewers": false,
     "node_id": "4QWHNEWioXkNhoz1sUeibe",
     "report_properties": {
      "rowId": "HiD3nucKQXqxmrJlbKQkKo"
     },
     "type": "MD"
    }
   },
   "source": [
    "the large number of diamonds is classified as \"excellent\" cutting grade."
   ]
  },
  {
   "cell_type": "code",
   "execution_count": null,
   "metadata": {
    "datalore": {
     "hide_input_from_viewers": false,
     "hide_output_from_viewers": false,
     "node_id": "eCK3qudDKl5b8UIAYPDH0T",
     "report_properties": {
      "rowId": "RHQh9UGpLIqVux8wrdkL0U"
     },
     "type": "CODE"
    }
   },
   "outputs": [],
   "source": [
    "# count how many cut grade on specific symmetry and polish grade\n",
    "pd.DataFrame(df[[\"cut\",\"symmetry\",\"polish\"]].value_counts())"
   ]
  },
  {
   "cell_type": "code",
   "execution_count": null,
   "metadata": {
    "datalore": {
     "hide_input_from_viewers": false,
     "hide_output_from_viewers": false,
     "node_id": "rdzD1oqVPQ1wKrWQjgExO1",
     "report_properties": {
      "rowId": "zXT4HNnqzBar29GZvXheBt"
     },
     "type": "CODE"
    }
   },
   "outputs": [],
   "source": [
    "# count how many nan value of cut column has specific symmetry and polish\n",
    "pd.DataFrame(df[df[\"cut\"].isna()][[\"symmetry\",\"polish\"]].value_counts())"
   ]
  },
  {
   "cell_type": "code",
   "execution_count": null,
   "metadata": {
    "datalore": {
     "hide_input_from_viewers": false,
     "hide_output_from_viewers": false,
     "node_id": "WolVYB4nqVpbrPF8OFIk7T",
     "report_properties": {
      "rowId": "Gl32u1noYeJtUNC2CTIFfA"
     },
     "type": "CODE"
    }
   },
   "outputs": [],
   "source": [
    "# let's fill cut value\n",
    "# fill \"Excellent\" if symmetry or polish is/are excellent\n",
    "df[\"cut\"] = np.where(df[\"cut\"].isna() & ((df[\"symmetry\"] == \"Excellent\") | (df[\"polish\"] == \"Excellent\")),\n",
    "                     \"Excellent\", df[\"cut\"])\n",
    "\n",
    "# fill \"Very Good\" if symmetry and polish are very good\n",
    "df[\"cut\"] = np.where(df[\"cut\"].isna() & ((df[\"symmetry\"] == \"Very Good\") & (df[\"polish\"] == \"Very Good\")),\n",
    "                     \"Very Good\", df[\"cut\"])\n",
    "\n",
    "# otherwise, fill \"Good\"\n",
    "df['cut'] = np.where(df[\"cut\"].isna(), \"Good\", df['cut'])"
   ]
  },
  {
   "cell_type": "code",
   "execution_count": null,
   "metadata": {
    "datalore": {
     "hide_input_from_viewers": false,
     "hide_output_from_viewers": false,
     "node_id": "J0NVPx3Pf9gUraOuNxxlvA",
     "report_properties": {
      "rowId": "rmT8QHO38G4WhkQvhSC7LD"
     },
     "type": "CODE"
    }
   },
   "outputs": [],
   "source": [
    "df[\"cut\"].value_counts()"
   ]
  },
  {
   "cell_type": "code",
   "execution_count": null,
   "metadata": {
    "datalore": {
     "hide_input_from_viewers": false,
     "hide_output_from_viewers": false,
     "node_id": "hJ1KHuNeT7dDcsahZGdIKZ",
     "report_properties": {
      "rowId": "3mCpx6rs6bqTt7ERi0Wms8"
     },
     "type": "CODE"
    }
   },
   "outputs": [],
   "source": [
    "df[\"cut\"].isna().sum()"
   ]
  },
  {
   "cell_type": "markdown",
   "metadata": {
    "datalore": {
     "hide_input_from_viewers": false,
     "hide_output_from_viewers": false,
     "node_id": "KTFS0IvdaPViiyLbZlzV46",
     "report_properties": {
      "rowId": "qMkCMvt95kDYlAmvSVN50F"
     },
     "type": "MD"
    }
   },
   "source": [
    "### handling girdle_min, girdle_max, and culet_size"
   ]
  },
  {
   "cell_type": "code",
   "execution_count": null,
   "metadata": {
    "datalore": {
     "hide_input_from_viewers": false,
     "hide_output_from_viewers": false,
     "node_id": "qXFXPX1gC88n7mxQYdwg8B",
     "report_properties": {
      "rowId": "fJ3gOldueJ9bajXKrk9NTC"
     },
     "type": "CODE"
    }
   },
   "outputs": [],
   "source": [
    "df.isna().sum()"
   ]
  },
  {
   "cell_type": "code",
   "execution_count": null,
   "metadata": {
    "datalore": {
     "hide_input_from_viewers": false,
     "hide_output_from_viewers": false,
     "node_id": "kgqVY9FvZ6ripcJVG0beH1",
     "report_properties": {
      "rowId": "ZptSA8j5grEVuE1SntVGSO"
     },
     "type": "CODE"
    }
   },
   "outputs": [],
   "source": [
    "\n",
    "# plot girdle_min bar graph\n",
    "df[\"girdle_min\"].value_counts().plot(kind = \"bar\")"
   ]
  },
  {
   "cell_type": "code",
   "execution_count": null,
   "metadata": {
    "datalore": {
     "hide_input_from_viewers": false,
     "hide_output_from_viewers": false,
     "node_id": "DJuh6Tr41rVQ6b1ViOh6s8",
     "report_properties": {
      "rowId": "gKQgPMW9tMEeuZgwk88MnQ"
     },
     "type": "CODE"
    }
   },
   "outputs": [],
   "source": [
    "# plot girdle_max bar graph\n",
    "df[\"girdle_max\"].value_counts().plot(kind = \"bar\")"
   ]
  },
  {
   "cell_type": "code",
   "execution_count": null,
   "metadata": {
    "datalore": {
     "hide_input_from_viewers": false,
     "hide_output_from_viewers": false,
     "node_id": "qLxlqSeGmMrS3A9dQ5MtE8",
     "report_properties": {
      "rowId": "qKUf4aEBdvOEPT21oUItIQ"
     },
     "type": "CODE"
    }
   },
   "outputs": [],
   "source": [
    "# how large of dataset\n",
    "len(df)"
   ]
  },
  {
   "cell_type": "code",
   "execution_count": null,
   "metadata": {
    "datalore": {
     "hide_input_from_viewers": false,
     "hide_output_from_viewers": false,
     "node_id": "4LlXxgfkm6LDBDvHYKwcyy",
     "report_properties": {
      "rowId": "eco2nfszAciLXuAqFQo4yM"
     },
     "type": "CODE"
    }
   },
   "outputs": [],
   "source": [
    "# count how many diamonds got lack of both girdle_min, girdle_max data \n",
    "len(df[df[\"girdle_min\"].isna() & df[\"girdle_max\"].isna()])"
   ]
  },
  {
   "cell_type": "markdown",
   "metadata": {
    "datalore": {
     "hide_input_from_viewers": false,
     "hide_output_from_viewers": false,
     "node_id": "g1o91znxfAtclQsgATRQ8S",
     "report_properties": {
      "rowId": "o8nLeEEltcgr6nGXJ4HrT8"
     },
     "type": "MD"
    }
   },
   "source": [
    "almost of girdle_min missing occured with girdle_max missing"
   ]
  },
  {
   "cell_type": "code",
   "execution_count": null,
   "metadata": {
    "datalore": {
     "hide_input_from_viewers": false,
     "hide_output_from_viewers": false,
     "node_id": "lgWtvbjY27PYQE1WY84rE4",
     "report_properties": {
      "rowId": "cEYoon7Ad37wmtigN2wofB"
     },
     "type": "CODE"
    }
   },
   "outputs": [],
   "source": [
    "# count how many diamonds got lack of girdle_min, girdle_max data, and culet_size\n",
    "len(df[df[\"girdle_min\"].isna() & df[\"girdle_max\"].isna() & df[\"culet_size\"].isna()])"
   ]
  },
  {
   "cell_type": "markdown",
   "metadata": {
    "datalore": {
     "hide_input_from_viewers": false,
     "hide_output_from_viewers": false,
     "node_id": "FN0f8TBTE3yjqtXdpYYgI3",
     "report_properties": {
      "rowId": "CF74TXExSeToAgDUTDDzos"
     },
     "type": "MD"
    }
   },
   "source": [
    "can't summary that missed of gardle detail affected to culet"
   ]
  },
  {
   "cell_type": "code",
   "execution_count": null,
   "metadata": {
    "datalore": {
     "hide_input_from_viewers": false,
     "hide_output_from_viewers": false,
     "node_id": "f87vqTz64nstTGws6HVI2y",
     "report_properties": {
      "rowId": "yU3F6gbgUPa6R8mYaaXTR3"
     },
     "type": "CODE"
    }
   },
   "outputs": [],
   "source": [
    "# count how many diamonds got lack of both girdle_min, girdle_max data \n",
    "len(df[df[\"girdle_min\"].isna() & df[\"girdle_max\"].isna()]) / len(df)"
   ]
  },
  {
   "cell_type": "markdown",
   "metadata": {
    "datalore": {
     "hide_input_from_viewers": false,
     "hide_output_from_viewers": false,
     "node_id": "OPrDAJYWxJhnSbxWxUtMV0",
     "report_properties": {
      "rowId": "g4Rz0vhAZgiYNmrcbiBANM"
     },
     "type": "MD"
    }
   },
   "source": [
    "let's drop it because we can't properly impute these two variable.<br>\n",
    "the missing values are 38% of dataset. To imputing girdle_min, we should know<br>\n",
    "girdle max for upper-bound girdle size.<br>\n",
    "\n",
    "So, we have 2 ways to manipulate girdle_min and girdle_max :\n",
    "(1) drop columns - no effect amount of row, learning is less complex.<br>\n",
    "(2) drop rows which have nan - remove 38% of dataset, but price is probably founded<br>\n",
    "correlate to girdle later.\n",
    "\n",
    "we choose (1). Let's drop them"
   ]
  },
  {
   "cell_type": "code",
   "execution_count": null,
   "metadata": {
    "datalore": {
     "hide_input_from_viewers": false,
     "hide_output_from_viewers": false,
     "node_id": "TH3uKrB11RLlvBRO35mhKG",
     "report_properties": {
      "rowId": "C5xOafjHnh2atqd8A6cg5b"
     },
     "type": "CODE"
    }
   },
   "outputs": [],
   "source": [
    "df.drop([\"girdle_max\",\"girdle_min\"], axis=1, inplace = True)"
   ]
  },
  {
   "cell_type": "markdown",
   "metadata": {
    "datalore": {
     "hide_input_from_viewers": false,
     "hide_output_from_viewers": false,
     "node_id": "cH3xHln4pFMEiqzUmEy79S",
     "report_properties": {
      "rowId": "qLQ0T1eRybxX5tcrw9P9WC"
     },
     "type": "MD"
    }
   },
   "source": [
    "For culet size serching, we found that culet size can be None(N) for <br>\n",
    "very small size of culet. \n",
    "\n",
    "information source : https://www.brilliance.com/education/diamonds/culet"
   ]
  },
  {
   "cell_type": "code",
   "execution_count": null,
   "metadata": {
    "datalore": {
     "hide_input_from_viewers": false,
     "hide_output_from_viewers": false,
     "node_id": "lGVnBiSMDbHMwZU3UXqNtD",
     "report_properties": {
      "rowId": "dr3jcqhvGYXaP7bbJN8XuS"
     },
     "type": "CODE"
    }
   },
   "outputs": [],
   "source": [
    "df[\"culet_size\"].value_counts()"
   ]
  },
  {
   "cell_type": "markdown",
   "metadata": {
    "datalore": {
     "hide_input_from_viewers": false,
     "hide_output_from_viewers": false,
     "node_id": "mrDlgrkEeUDNAvrKXbkfgi",
     "report_properties": {
      "rowId": "69mMXisTFQffr9Dr9vAZ6a"
     },
     "type": "MD"
    }
   },
   "source": [
    "from `value_count()`, we see N(None) is the most frequent culet_size.<br>\n",
    "So, It's a great idea to impute null value in \"culet\" column to N."
   ]
  },
  {
   "cell_type": "code",
   "execution_count": null,
   "metadata": {
    "datalore": {
     "hide_input_from_viewers": false,
     "hide_output_from_viewers": false,
     "node_id": "Zcn0YtI0ExlMPSpyqaqrO9",
     "report_properties": {
      "rowId": "NLj8Ue0QGdflHHt70x1kN3"
     },
     "type": "CODE"
    }
   },
   "outputs": [],
   "source": [
    "df['culet_size'] = np.where(df['culet_size'].isna(), \"N\", df['culet_size'])"
   ]
  },
  {
   "cell_type": "code",
   "execution_count": null,
   "metadata": {
    "datalore": {
     "hide_input_from_viewers": false,
     "hide_output_from_viewers": false,
     "node_id": "uRqBKKvw42pMH1SnrUsCyv",
     "report_properties": {
      "rowId": "fV2mZhxFXViSAtd0AQAQXk"
     },
     "type": "CODE"
    }
   },
   "outputs": [],
   "source": [
    "df.isna().sum()"
   ]
  },
  {
   "cell_type": "markdown",
   "metadata": {
    "datalore": {
     "hide_input_from_viewers": false,
     "hide_output_from_viewers": false,
     "node_id": "1v9nX9Pmxlx0qUJ8f7Y1nx",
     "report_properties": {
      "rowId": "1EvUPohg3jKylaTxZeAWmJ"
     },
     "type": "MD"
    }
   },
   "source": [
    "### drop columns that have greater than 50% missing value"
   ]
  },
  {
   "cell_type": "code",
   "execution_count": null,
   "metadata": {
    "datalore": {
     "hide_input_from_viewers": false,
     "hide_output_from_viewers": false,
     "node_id": "5YILJ4eOGF7MB172XX6f5K",
     "report_properties": {
      "rowId": "gtAJZmAlZrL3vahJfeeYd8"
     },
     "type": "CODE"
    }
   },
   "outputs": [],
   "source": [
    "def missrate(df, *cols):\n",
    "    for col in cols:\n",
    "        print(f\"{col}'s missing ratio : {(len(df[df[col].isna()])/len(df))*100:.2f} %\")\n",
    "\n",
    "missrate(df, \"culet_condition\", \"fluor_color\", \"eye_clean\", \"fluor_intensity\")"
   ]
  },
  {
   "cell_type": "code",
   "execution_count": null,
   "metadata": {
    "datalore": {
     "hide_input_from_viewers": false,
     "hide_output_from_viewers": false,
     "node_id": "K2qBbZ7GY55Wo9c1bHxFhG",
     "report_properties": {
      "rowId": "BSTxKnFFD0846DGLBvl0sm"
     },
     "type": "CODE"
    }
   },
   "outputs": [],
   "source": [
    "df.drop([\"culet_condition\", \"fluor_color\", \"eye_clean\", \"fluor_intensity\"], axis =1, inplace= True)"
   ]
  },
  {
   "cell_type": "code",
   "execution_count": null,
   "metadata": {
    "datalore": {
     "hide_input_from_viewers": false,
     "hide_output_from_viewers": false,
     "node_id": "p6u2bo8cvy2HFG9NojOOdH",
     "report_properties": {
      "rowId": "BuSDdRwKAGmvPZVU5w5GMF"
     },
     "type": "CODE"
    }
   },
   "outputs": [],
   "source": [
    "df.isna().sum()"
   ]
  },
  {
   "cell_type": "markdown",
   "metadata": {
    "datalore": {
     "hide_input_from_viewers": false,
     "hide_output_from_viewers": false,
     "node_id": "QOElKG2A39HQhIDZz3sM1s",
     "report_properties": {
      "rowId": "lV8cYaDGnkApiLMvstggxV"
     },
     "type": "MD"
    }
   },
   "source": [
    "### handling date"
   ]
  },
  {
   "cell_type": "code",
   "execution_count": null,
   "metadata": {
    "datalore": {
     "hide_input_from_viewers": false,
     "hide_output_from_viewers": false,
     "node_id": "CEAIzqfd2XpgqykeODMvgf",
     "report_properties": {
      "rowId": "QSAfwi3zbgBu3ICQHzQehW"
     },
     "type": "CODE"
    }
   },
   "outputs": [],
   "source": [
    "df[\"date\"].unique()"
   ]
  },
  {
   "cell_type": "markdown",
   "metadata": {
    "datalore": {
     "hide_input_from_viewers": false,
     "hide_output_from_viewers": false,
     "node_id": "1GD6TiK1esjifcxYn5E3ZG",
     "report_properties": {
      "rowId": "ofieakK4IHDqaLRnxiZRq8"
     },
     "type": "MD"
    }
   },
   "source": [
    "date column has only one value, let's drop date column"
   ]
  },
  {
   "cell_type": "code",
   "execution_count": null,
   "metadata": {
    "datalore": {
     "hide_input_from_viewers": false,
     "hide_output_from_viewers": false,
     "node_id": "Iq5yW6KAmfKmaTNvQwROmC",
     "report_properties": {
      "rowId": "DYzVMRhrTRC5RGF8Ea2xKW"
     },
     "type": "CODE"
    }
   },
   "outputs": [],
   "source": [
    "df.drop(\"date\", axis =1, inplace= True)"
   ]
  },
  {
   "cell_type": "markdown",
   "metadata": {
    "datalore": {
     "hide_input_from_viewers": false,
     "hide_output_from_viewers": false,
     "node_id": "zTfrbODLWN0V4PjDLSmsTq",
     "report_properties": {
      "rowId": "wS7Dio5frbM5cixmIvxxRc"
     },
     "type": "MD"
    }
   },
   "source": [
    "## numerical-value column"
   ]
  },
  {
   "cell_type": "code",
   "execution_count": null,
   "metadata": {
    "datalore": {
     "hide_input_from_viewers": false,
     "hide_output_from_viewers": false,
     "node_id": "ooSfhOewMlRwGSucIRKeUC",
     "report_properties": {
      "rowId": "UwdBDNV1rKsr1SDahl4I5e"
     },
     "type": "CODE"
    }
   },
   "outputs": [],
   "source": [
    "df"
   ]
  },
  {
   "cell_type": "code",
   "execution_count": null,
   "metadata": {
    "datalore": {
     "hide_input_from_viewers": false,
     "hide_output_from_viewers": false,
     "node_id": "YStZoLAq8cDI097Lmelsen",
     "report_properties": {
      "rowId": "NnYFIg7bMcdqisC2SViG84"
     },
     "type": "CODE"
    }
   },
   "outputs": [],
   "source": [
    "df.info()"
   ]
  },
  {
   "cell_type": "markdown",
   "metadata": {
    "datalore": {
     "hide_input_from_viewers": false,
     "hide_output_from_viewers": false,
     "node_id": "DeDXDxb0gJWae4nPK32zQt",
     "report_properties": {
      "rowId": "5UR7ehJ8K7iWXm1w0cr9FX"
     },
     "type": "MD"
    }
   },
   "source": [
    "### the zeroes values in meas' shape columns\n",
    "the width/depth/length of diamonds can't be zeros,<br>\n",
    "drop rows which three features are 0. "
   ]
  },
  {
   "cell_type": "code",
   "execution_count": null,
   "metadata": {
    "datalore": {
     "hide_input_from_viewers": false,
     "hide_output_from_viewers": false,
     "node_id": "5i7f90FvuBOikDQFReMA0N",
     "report_properties": {
      "rowId": "y26XudP4JMo50K5cgfyPq9"
     },
     "type": "CODE"
    }
   },
   "outputs": [],
   "source": [
    "# count how many zero values row\n",
    "len(df[( (df[\"meas_length\"]==0) | (df[\"meas_width\"]==0) | (df[\"meas_depth\"]==0) )])"
   ]
  },
  {
   "cell_type": "code",
   "execution_count": null,
   "metadata": {
    "datalore": {
     "hide_input_from_viewers": false,
     "hide_output_from_viewers": false,
     "node_id": "MhGM1LC0NmWLENG7ErgUSu",
     "report_properties": {
      "rowId": "cqpuRvhZ1Xlv9AG21Ia0Am"
     },
     "type": "CODE"
    }
   },
   "outputs": [],
   "source": [
    "index = df[( (df[\"meas_length\"]==0) | (df[\"meas_width\"]==0) | (df[\"meas_depth\"]==0) )].index\n",
    "df.drop(index , inplace=True)"
   ]
  },
  {
   "cell_type": "code",
   "execution_count": null,
   "metadata": {
    "datalore": {
     "hide_input_from_viewers": false,
     "hide_output_from_viewers": false,
     "node_id": "lfm5WwVmsgmmgwxoDzrtP5",
     "report_properties": {
      "rowId": "wVAClw41gwjfcTv4SMrBSJ"
     },
     "type": "CODE"
    }
   },
   "outputs": [],
   "source": [
    "len(df[( (df[\"meas_length\"]==0) | (df[\"meas_width\"]==0) | (df[\"meas_depth\"]==0) )])"
   ]
  },
  {
   "cell_type": "markdown",
   "metadata": {
    "datalore": {
     "hide_input_from_viewers": false,
     "hide_output_from_viewers": false,
     "node_id": "RP5K3qQCmJFUSfmQexilNs",
     "report_properties": {
      "rowId": "QVuVovkumltzfZyEUCgzce"
     },
     "type": "MD"
    }
   },
   "source": [
    "### derived column\n",
    "in this dataset, depth_percent is approximately calculated by (200\\*z)/(x+y).<br>\n",
    "we could regress before we train our model."
   ]
  },
  {
   "cell_type": "code",
   "execution_count": null,
   "metadata": {
    "datalore": {
     "hide_input_from_viewers": false,
     "hide_output_from_viewers": false,
     "node_id": "WtvGoUlBsOvUEfqDlngocc",
     "report_properties": {
      "rowId": "RKIoEoUtywbGkIel1It47m"
     },
     "type": "CODE"
    }
   },
   "outputs": [],
   "source": [
    "# prove equation\n",
    "temp = df.loc[:, [\"meas_length\",\"meas_width\",\"meas_depth\",\"depth_percent\"]]\n",
    "temp.loc[:, [\"depth_r\"]] = np.zeros(len(temp))"
   ]
  },
  {
   "cell_type": "code",
   "execution_count": null,
   "metadata": {
    "datalore": {
     "hide_input_from_viewers": false,
     "hide_output_from_viewers": false,
     "node_id": "XyNIwQ2ebq8vOCFQ9aUbGW",
     "report_properties": {
      "rowId": "NmAHWZ4VSszJ7lkKiPDvaj"
     },
     "type": "CODE"
    }
   },
   "outputs": [],
   "source": [
    "temp.loc[:, [\"depth_r\"]] = np.where(df[\"depth_percent\"].notna(), (200*df[\"meas_depth\"])/(df[\"meas_length\"]+df[\"meas_width\"]), temp[\"depth_r\"])"
   ]
  },
  {
   "cell_type": "code",
   "execution_count": null,
   "metadata": {
    "datalore": {
     "hide_input_from_viewers": false,
     "hide_output_from_viewers": false,
     "node_id": "593MTE7zWCRk5SbFWxrUYD",
     "report_properties": {
      "rowId": "IRUTaw0zdiVkpc4UMddFGT"
     },
     "type": "CODE"
    }
   },
   "outputs": [],
   "source": [
    "temp"
   ]
  },
  {
   "cell_type": "markdown",
   "metadata": {
    "datalore": {
     "hide_input_from_viewers": false,
     "hide_output_from_viewers": false,
     "node_id": "uUmnff9Y5cPUPmbNzTfrM6",
     "report_properties": {
      "rowId": "DrHKx4wsq82OIbFIS5bTdH"
     },
     "type": "MD"
    }
   },
   "source": [
    "depth_r and depth_percent are similar."
   ]
  },
  {
   "cell_type": "code",
   "execution_count": null,
   "metadata": {
    "datalore": {
     "hide_input_from_viewers": false,
     "hide_output_from_viewers": false,
     "node_id": "msGsAbXrGs1ugiUskKlFTR",
     "report_properties": {
      "rowId": "Tm2MMwTI0zTDJOLs0ko1Ak"
     },
     "type": "CODE"
    }
   },
   "outputs": [],
   "source": [
    "df.drop(\"depth_percent\", axis =1, inplace= True)"
   ]
  },
  {
   "cell_type": "code",
   "execution_count": null,
   "metadata": {
    "datalore": {
     "hide_input_from_viewers": false,
     "hide_output_from_viewers": false,
     "node_id": "Zvi4xgac46unWCYNshsK6b",
     "report_properties": {
      "rowId": "74tiK5tHufpw2fIlloa9Rq"
     },
     "type": "CODE"
    }
   },
   "outputs": [],
   "source": [
    "df"
   ]
  },
  {
   "cell_type": "markdown",
   "metadata": {
    "datalore": {
     "hide_input_from_viewers": false,
     "hide_output_from_viewers": false,
     "node_id": "wlqJK50dh2SSdhSWL48gam",
     "report_properties": {
      "rowId": "OY4gJviylV2RtHQB04vvL6"
     },
     "type": "MD"
    }
   },
   "source": [
    "### abnormally data point detection"
   ]
  },
  {
   "cell_type": "code",
   "execution_count": null,
   "metadata": {
    "datalore": {
     "hide_input_from_viewers": false,
     "hide_output_from_viewers": false,
     "node_id": "22nDH8vnOeAiHkTHnjNfCO",
     "report_properties": {
      "rowId": "xFHY6Ovt4WXJR5cdzkDQM3"
     },
     "type": "CODE"
    }
   },
   "outputs": [],
   "source": [
    "# plot pair plot for abnormaly detection\n",
    "sns.pairplot(df)"
   ]
  },
  {
   "attachments": {},
   "cell_type": "markdown",
   "metadata": {},
   "source": [
    "![pairplot abnormal](public/pairplot_abnormal.png)"
   ]
  },
  {
   "cell_type": "markdown",
   "metadata": {
    "datalore": {
     "hide_input_from_viewers": false,
     "hide_output_from_viewers": false,
     "node_id": "bV0C67DcTbUFqLSSO5kCAh",
     "report_properties": {
      "rowId": "Jo8GNExrfcFQQREoAe0LeE"
     },
     "type": "MD"
    }
   },
   "source": [
    "you'll see abnormally data point on meas' shape graph. <br>\n",
    "(1) dataset may contain two groups of population, from the clusters <br>\n",
    "that we see in the meas_depth and table_percent graph.<br>\n",
    "(2) In meas_length and meas_width, there are possibly errors.<br>\n",
    "\n",
    "let's look inside how many of them by giving<br>\n",
    "(1) meas_length > 50<br>\n",
    "(2) meas_width >35"
   ]
  },
  {
   "cell_type": "code",
   "execution_count": null,
   "metadata": {
    "datalore": {
     "hide_input_from_viewers": false,
     "hide_output_from_viewers": false,
     "node_id": "LyJ8MmkrILxs3HHtGdNPxo",
     "report_properties": {
      "rowId": "R0GxTwyoB1NZr1fypncMP3"
     },
     "type": "CODE"
    }
   },
   "outputs": [],
   "source": [
    "df[ (df[\"meas_length\"] >50) | (df[\"meas_width\"] > 35) ]"
   ]
  },
  {
   "cell_type": "code",
   "execution_count": null,
   "metadata": {
    "datalore": {
     "hide_input_from_viewers": false,
     "hide_output_from_viewers": false,
     "node_id": "icrI7ewHS7tXFe6XKhWIJn",
     "report_properties": {
      "rowId": "Vje8oUHablsRO9dfMJAkwL"
     },
     "type": "CODE"
    }
   },
   "outputs": [],
   "source": [
    "# drop it\n",
    "index = df[ (df[\"meas_length\"] >50) | (df[\"meas_width\"] > 35) ].index\n",
    "df.drop(index , inplace=True)"
   ]
  },
  {
   "cell_type": "code",
   "execution_count": null,
   "metadata": {
    "datalore": {
     "hide_input_from_viewers": false,
     "hide_output_from_viewers": false,
     "node_id": "FMYwlu4Fxbnx1lOFEfCIzx",
     "report_properties": {
      "rowId": "764TDXDGfG90Bc9decyB9z"
     },
     "type": "CODE"
    }
   },
   "outputs": [],
   "source": [
    "sns.pairplot(df)"
   ]
  },
  {
   "attachments": {},
   "cell_type": "markdown",
   "metadata": {},
   "source": [
    "![paiplot normal](public/pairplot_after.png)"
   ]
  },
  {
   "cell_type": "markdown",
   "metadata": {
    "datalore": {
     "hide_input_from_viewers": false,
     "hide_output_from_viewers": false,
     "node_id": "SbtavvZbdDmiM1P9c6RZHb",
     "report_properties": {
      "rowId": "bkupkG6vF6VMHLerpg1CE3"
     },
     "type": "MD"
    }
   },
   "source": [
    "## turn categorical value to numerical value "
   ]
  },
  {
   "cell_type": "code",
   "execution_count": null,
   "metadata": {
    "datalore": {
     "hide_input_from_viewers": false,
     "hide_output_from_viewers": false,
     "node_id": "zOPfsGPnMjavwDGWJKX5vx",
     "report_properties": {
      "rowId": "vSdvGyd10pwZXWs4ckl7o4"
     },
     "type": "CODE"
    }
   },
   "outputs": [],
   "source": [
    "df.info()"
   ]
  },
  {
   "cell_type": "code",
   "execution_count": null,
   "metadata": {
    "datalore": {
     "hide_input_from_viewers": false,
     "hide_output_from_viewers": false,
     "node_id": "pHUgkIugZafX10VLL8SbTr",
     "report_properties": {
      "rowId": "jXOPAlgFxNwdHHBK8NI2yN"
     },
     "type": "CODE"
    }
   },
   "outputs": [],
   "source": [
    "# unique category of columns (ordinary)\n",
    "dict_unique = {\n",
    "                \"cut\" : np.unique(df.cut),\n",
    "               \"color_type\" : np.unique(df.color_type),\n",
    "               \"clarity\" : np.unique(df.clarity),\n",
    "               \"symmetry\" : np.unique(df.symmetry),\n",
    "               \"polish\" : np.unique(df.polish),\n",
    "               \"culet_size\" : np.unique(df.culet_size)}\n",
    "\n",
    "uniq_df = pd.DataFrame.from_dict(dict_unique, orient='index')\n",
    "uniq_df.T"
   ]
  },
  {
   "cell_type": "code",
   "execution_count": null,
   "metadata": {
    "datalore": {
     "hide_input_from_viewers": false,
     "hide_output_from_viewers": false,
     "node_id": "j7QvSiHyqMVuB9qohUV1eH",
     "report_properties": {
      "rowId": "R5DhzmFiB73Z8nvggcZViE"
     },
     "type": "CODE"
    }
   },
   "outputs": [],
   "source": [
    "from sklearn import preprocessing\n",
    "\n",
    "label_encoder = preprocessing.LabelEncoder()\n",
    "  \n",
    "# Encode labels in column 'species'.\n",
    "df['color_type']= label_encoder.fit_transform(df['color_type'])\n",
    "  \n",
    "df['color_type'].unique()"
   ]
  },
  {
   "cell_type": "code",
   "execution_count": null,
   "metadata": {
    "datalore": {
     "hide_input_from_viewers": false,
     "hide_output_from_viewers": false,
     "node_id": "NhHV0ahrWgx7uow55l3izc",
     "report_properties": {
      "rowId": "HXiID6oQkY8GMXvNQbRXEc"
     },
     "type": "CODE"
    }
   },
   "outputs": [],
   "source": [
    "# from column dictionary, categories tell how good quality/criteria/level\n",
    "# of diamond in specific measurement (worst-best)\n",
    "\n",
    "cutp = {\"None\" : 1, \"Fair\" : 2 , \"Good\" : 3 , \"Very Good\" : 4 , \"Excellent\" : 5 , \"Ideal\" : 6}\n",
    "clarityp = {\"I3\" : 1, \"I2\" : 2, \"I1\" : 3, \"SI2\" : 4 , \"SI1\" : 5, \"VS2\" : 6, \"VS1\" : 7, \"VVS2\" : 8, \"VVS1\" : 9, \"IF\" : 10 }\n",
    "symmetryp = {\"Poor\" : 1 , \"Fair\" : 2 , \"Good\" : 3 , \"Very Good\" : 4 , \"Excellent\" : 5}\n",
    "polishp = {\"Poor\" : 1 , \"Fair\" : 2 , \"Good\" : 3 , \"Very Good\" : 4 , \"Excellent\" : 5}\n",
    "culet_sizep = { \"EL\" : 1, \"VL\" : 2, \"L\" : 3, \"SL\" : 4, \"M\" : 5,\"S\" : 6, \"VS\" : 7, \"N\" : 8}\n",
    "# fluor_intensityp = {\"Very Strong\" : 1, \"Strong\" : 2, \"Medium\" : 3, \"Slight\" : 4 ,\"Very Slight\" : 5, \"Faint\" : 6 , \"None\" : 7}\n",
    "\n",
    "def fillp(dataframe ,col ,dictp):\n",
    "    dataframe.loc[:,[col]] = dataframe.loc[:,[col]].replace(dictp)\n",
    "\n",
    "fillp(df, \"cut\", cutp)\n",
    "fillp(df, \"clarity\", clarityp)\n",
    "fillp(df, \"symmetry\", symmetryp)\n",
    "fillp(df, \"polish\", polishp)\n",
    "fillp(df, \"culet_size\", culet_sizep)"
   ]
  },
  {
   "cell_type": "code",
   "execution_count": null,
   "metadata": {
    "datalore": {
     "hide_input_from_viewers": false,
     "hide_output_from_viewers": false,
     "node_id": "vt8acPz6rbCofVkeTnCUNb",
     "report_properties": {
      "rowId": "qHh2yBlsHku7byp4x8J7aH"
     },
     "type": "CODE"
    }
   },
   "outputs": [],
   "source": [
    "df.info()"
   ]
  },
  {
   "cell_type": "code",
   "execution_count": null,
   "metadata": {
    "datalore": {
     "hide_input_from_viewers": false,
     "hide_output_from_viewers": false,
     "node_id": "STjVV5aqQzn8fiha77nU9j",
     "report_properties": {
      "rowId": "LHDQDj1ELGUF6QSAbqSKvY"
     },
     "type": "CODE"
    }
   },
   "outputs": [],
   "source": [
    "df"
   ]
  },
  {
   "cell_type": "code",
   "execution_count": null,
   "metadata": {
    "datalore": {
     "hide_input_from_viewers": false,
     "hide_output_from_viewers": false,
     "node_id": "K2KAttsLYU9klgwoT8sPCk",
     "report_properties": {
      "rowId": "iZIKoJiles0kRN4Upwhz3O"
     },
     "type": "CODE"
    }
   },
   "outputs": [],
   "source": [
    "# using one-hot encoding with get_dummies for lab column\n",
    "\n",
    "dummies = pd.get_dummies(df['lab'])\n",
    "df_f = pd.concat([df, dummies], axis = 1).drop(\"lab\", axis = 1)\n",
    "df_f"
   ]
  },
  {
   "cell_type": "markdown",
   "metadata": {
    "datalore": {
     "hide_input_from_viewers": false,
     "hide_output_from_viewers": false,
     "node_id": "MhZs0xHTIM0v6FgO1uyp2u",
     "report_properties": {
      "rowId": "aZOg5hHej74R400aEP73tN"
     },
     "type": "MD"
    }
   },
   "source": [
    "## basic analysis about price of diamond and fancy color features"
   ]
  },
  {
   "cell_type": "code",
   "execution_count": null,
   "metadata": {
    "datalore": {
     "hide_input_from_viewers": false,
     "hide_output_from_viewers": false,
     "node_id": "Vxt6uPZNRIWwmPYnXAdpMh",
     "report_properties": {
      "rowId": "PhoJbvGS25mCU75iKfu9qr"
     },
     "type": "CODE"
    }
   },
   "outputs": [],
   "source": [
    "\n",
    "# plot graph of fancy color diamonds\n",
    "main_df[\"fancy_color_dominant_color\"].value_counts().plot(kind = \"bar\")"
   ]
  },
  {
   "cell_type": "markdown",
   "metadata": {
    "datalore": {
     "hide_input_from_viewers": false,
     "hide_output_from_viewers": false,
     "node_id": "eDO8JTfR8EoxyktFYOTW9m",
     "report_properties": {
      "rowId": "CtQBVq3EAVy3GVMja7p3ym"
     },
     "type": "MD"
    }
   },
   "source": [
    "From researching and experiment with this dataset, <br>\n",
    "the price of diamonds increased when they have fancy color and rarity. "
   ]
  },
  {
   "cell_type": "code",
   "execution_count": null,
   "metadata": {
    "datalore": {
     "hide_input_from_viewers": false,
     "hide_output_from_viewers": false,
     "node_id": "pNNnlJXAdg7l13CjEbvTRz",
     "report_properties": {
      "rowId": "qKnAb1sYSY91rcAbp5QqSl"
     },
     "type": "CODE"
    }
   },
   "outputs": [],
   "source": [
    "main_df[main_df[\"color\"].isna()].total_sales_price.mean()"
   ]
  },
  {
   "cell_type": "code",
   "execution_count": null,
   "metadata": {
    "datalore": {
     "hide_input_from_viewers": false,
     "hide_output_from_viewers": false,
     "node_id": "TIIvf5AUapKfiCxwJfQfQx",
     "report_properties": {
      "rowId": "k2XfiK52Lax8uW8vKZHdDD"
     },
     "type": "CODE"
    }
   },
   "outputs": [],
   "source": [
    "\n",
    "main_df[main_df[\"color\"].notna()].total_sales_price.mean()"
   ]
  },
  {
   "cell_type": "code",
   "execution_count": null,
   "metadata": {
    "datalore": {
     "hide_input_from_viewers": false,
     "hide_output_from_viewers": false,
     "node_id": "kSIF8JHHQMkxJ1iuMvfIMC",
     "report_properties": {
      "rowId": "7y7sPB0lFx7K75rSlqyycw"
     },
     "type": "CODE"
    }
   },
   "outputs": [],
   "source": [
    "pd.pivot_table(main_df[main_df[\"fancy_color_dominant_color\"].notna()],\n",
    "               values=\"total_sales_price\", columns=\"fancy_color_dominant_color\",\n",
    "               aggfunc = np.mean).T.plot()"
   ]
  },
  {
   "cell_type": "code",
   "execution_count": null,
   "metadata": {
    "datalore": {
     "hide_input_from_viewers": false,
     "hide_output_from_viewers": false,
     "node_id": "203co0MssdoGRBuv5QwYtv",
     "report_properties": {
      "rowId": "vnzqh8OiRwnWUbBDu3ccgF"
     },
     "type": "CODE"
    }
   },
   "outputs": [],
   "source": [
    "# fill null value with last column \"fancy_color_intensity\"\n",
    "main_df[\"fancy_color_intensity\"].unique()"
   ]
  },
  {
   "cell_type": "code",
   "execution_count": null,
   "metadata": {
    "datalore": {
     "hide_input_from_viewers": false,
     "hide_output_from_viewers": false,
     "node_id": "e1VjAT6OiDiravGQf9cTxE",
     "report_properties": {
      "rowId": "3KPiqJfXznoLy0xbPxpjJ9"
     },
     "type": "CODE"
    }
   },
   "outputs": [],
   "source": [
    "# using one-hot encoding with get_dummies for shape column\n",
    "dummies = pd.get_dummies(df_f['shape'])\n",
    "df_f = pd.concat([df_f, dummies], axis = 1).drop(\"shape\", axis = 1)\n",
    "df_f"
   ]
  },
  {
   "cell_type": "code",
   "execution_count": null,
   "metadata": {
    "datalore": {
     "hide_input_from_viewers": false,
     "hide_output_from_viewers": false,
     "node_id": "yKhJOnOtSJxpMcKZC9GtSh",
     "report_properties": {
      "rowId": "DGTCzCcYDBF3jPg4lgj0AP"
     },
     "type": "CODE"
    }
   },
   "outputs": [],
   "source": [
    "# plot cluster map\n",
    "sns.clustermap(df_f.corr(), cmap='RdYlBu')"
   ]
  },
  {
   "cell_type": "code",
   "execution_count": null,
   "metadata": {
    "datalore": {
     "hide_input_from_viewers": false,
     "hide_output_from_viewers": false,
     "node_id": "cSq4ATxteiFs56yKVJT6qD",
     "report_properties": {
      "rowId": "zcFrMgnY116FCqeEaztNxa"
     },
     "type": "CODE"
    },
    "scrolled": true
   },
   "outputs": [],
   "source": [
    "df_f.corr()"
   ]
  },
  {
   "cell_type": "markdown",
   "metadata": {},
   "source": [
    "# training model with linear regression"
   ]
  },
  {
   "cell_type": "code",
   "execution_count": null,
   "metadata": {},
   "outputs": [],
   "source": [
    "# import metrics\n",
    "from sklearn.metrics import mean_squared_error, mean_absolute_error, r2_score\n",
    "\n",
    "# create evaluation function\n",
    "def evaluation_matric(X_test, y_test, model):\n",
    "    print(\"Regression metrics on the test set\")\n",
    "    y_preds = model.predict(X_test)  \n",
    "    r2 = r2_score(y_true = y_test, y_pred = y_preds )\n",
    "    MAE = mean_absolute_error(y_true = y_test, y_pred = y_preds )\n",
    "    MSE = mean_squared_error(y_true = y_test, y_pred = y_preds )\n",
    "    print(f\"r2_score : {r2} \")\n",
    "    print(f\"MAE : {MAE} \")\n",
    "    print(f\"MSE : {MSE} \")\n",
    "    return {\"R2\" : r2, \"MAE\" : MAE, \"MSE\" : MSE}"
   ]
  },
  {
   "cell_type": "code",
   "execution_count": null,
   "metadata": {},
   "outputs": [],
   "source": [
    "# import estimator and spliting module\n",
    "from sklearn.linear_model import LinearRegression\n",
    "from sklearn.model_selection import train_test_split\n",
    "\n",
    "# set random seed\n",
    "np.random.seed(42)\n",
    "\n",
    "# split features and target\n",
    "X_lr = df_f.drop([\"total_sales_price\"], axis = 1)\n",
    "y_lr = df_f[\"total_sales_price\"]\n",
    "\n",
    "# split dataset to training set and test set\n",
    "X_lr_train, X_lr_test, y_lr_train, y_lr_test = train_test_split(X_lr, y_lr, test_size = 0.2)\n",
    "\n",
    "# fit the model\n",
    "lr_rgs_A = LinearRegression()\n",
    "lr_rgs_A.fit(X_lr_train, y_lr_train)"
   ]
  },
  {
   "cell_type": "code",
   "execution_count": null,
   "metadata": {},
   "outputs": [],
   "source": [
    "evaluation_matric(X_test=X_lr_test, y_test=y_lr_test, model= lr_rgs_A)"
   ]
  },
  {
   "cell_type": "code",
   "execution_count": null,
   "metadata": {},
   "outputs": [],
   "source": [
    "# show difference between prediction and actual value\n",
    "cmp_lr = pd.DataFrame()\n",
    "y_lr_preds = lr_rgs_A.predict(X_lr_test)\n",
    "cmp_lr.insert(0, 'y_preds', y_lr_preds)\n",
    "y_test_lr = y_lr_test.reset_index()\n",
    "cmp_lr.insert(1, 'y_test', y_test_lr.loc[:, [\"total_sales_price\"]])\n",
    "cmp_lr.loc[:, ['diff']] = cmp_lr[\"y_preds\"] - cmp_lr[\"y_test\"]\n",
    "cmp_lr"
   ]
  },
  {
   "cell_type": "markdown",
   "metadata": {
    "datalore": {
     "hide_input_from_viewers": false,
     "hide_output_from_viewers": false,
     "node_id": "LlabTnbWWVppCOz6OBoPOb",
     "report_properties": {
      "rowId": "4KscP1FT2drDMFfD9CinVQ"
     },
     "type": "MD"
    }
   },
   "source": [
    "# training model with sklearn regression"
   ]
  },
  {
   "cell_type": "code",
   "execution_count": null,
   "metadata": {
    "datalore": {
     "hide_input_from_viewers": false,
     "hide_output_from_viewers": false,
     "node_id": "nOHLUEaJRoO2Rc2gjXPqa9",
     "report_properties": {
      "rowId": "puC7l0a8GGfQLwCb2oUlxb"
     },
     "type": "CODE"
    }
   },
   "outputs": [],
   "source": [
    "# import estimator \n",
    "from sklearn.ensemble import RandomForestRegressor"
   ]
  },
  {
   "cell_type": "code",
   "execution_count": null,
   "metadata": {
    "datalore": {
     "hide_input_from_viewers": false,
     "hide_output_from_viewers": false,
     "node_id": "GwvCm8p7fIb4CwMFeVcUum",
     "report_properties": {
      "rowId": "JY7LHihcll1NkgIOMgjaDn"
     },
     "type": "CODE"
    }
   },
   "outputs": [],
   "source": [
    "X_rf = df_f.drop([\"total_sales_price\"], axis = 1)\n",
    "y_rf = df_f[\"total_sales_price\"]\n",
    "\n",
    "np.random.seed(42)\n",
    "\n",
    "X_rf_train, X_rf_test, y_rf_train, y_rf_test = train_test_split(X_rf, y_rf, test_size = 0.2)\n",
    "\n",
    "rf_rgs1 = RandomForestRegressor()\n",
    "rf_rgs1.fit(X_rf_train, y_rf_train)"
   ]
  },
  {
   "cell_type": "code",
   "execution_count": null,
   "metadata": {
    "datalore": {
     "hide_input_from_viewers": false,
     "hide_output_from_viewers": false,
     "node_id": "t7D6MPusHp3GniEqDN7tbt",
     "report_properties": {
      "rowId": "XQWuFbn2gbVGIvI2HUpKbx"
     },
     "type": "CODE"
    }
   },
   "outputs": [],
   "source": [
    "evaluation_matric(X_test=X_rf_test, y_test=y_rf_test, model= rf_rgs1)"
   ]
  },
  {
   "cell_type": "code",
   "execution_count": null,
   "metadata": {
    "datalore": {
     "hide_input_from_viewers": false,
     "hide_output_from_viewers": false,
     "node_id": "IbJxTJSDZfAP3rbCNpzvLv",
     "report_properties": {
      "rowId": "sZiU5zAex8KXDU5FRikBiX"
     },
     "type": "CODE"
    }
   },
   "outputs": [],
   "source": [
    "# show difference between prediction and actual value\n",
    "cmp_rf = pd.DataFrame()\n",
    "y_rf_preds = rf_rgs1.predict(X_rf_test)\n",
    "cmp_rf.insert(0, 'y_preds', y_rf_preds)\n",
    "y_test_rf = y_rf_test.reset_index()\n",
    "cmp_rf.insert(1, 'y_test', y_test_rf.loc[:, [\"total_sales_price\"]])\n",
    "cmp_rf.loc[:, ['diff']] = cmp_rf[\"y_preds\"] - cmp_rf[\"y_test\"]\n",
    "cmp_rf"
   ]
  },
  {
   "cell_type": "code",
   "execution_count": null,
   "metadata": {
    "datalore": {
     "hide_input_from_viewers": true,
     "hide_output_from_viewers": true,
     "node_id": "HuC7z5JQ9Xa3SYC3FfRC7n",
     "type": "CODE"
    }
   },
   "outputs": [],
   "source": [
    "# get all current parameters\n",
    "rf_rgs1.get_params()"
   ]
  },
  {
   "cell_type": "markdown",
   "metadata": {},
   "source": [
    "## Hyperparameter tuning with RandomizedSearchCV"
   ]
  },
  {
   "cell_type": "code",
   "execution_count": null,
   "metadata": {},
   "outputs": [],
   "source": [
    "from sklearn.model_selection import RandomizedSearchCV\n",
    "\n",
    "np.random.seed(42)\n",
    "\n",
    "# the interval/set of value that will be assigned to model training\n",
    "grids = {\"n_estimators\" : [10,100,200,500,1000],\n",
    "        \"max_depth\" : [None, 5, 10, 20, 30],\n",
    "       \"max_features\" : [1, None,\"sqrt\"],\n",
    "       \"min_samples_split\" : [2,4,6],\n",
    "       \"min_samples_leaf\" : [1,2,4]}\n",
    "\n",
    "# use every unit for processing\n",
    "rf = RandomForestRegressor(n_jobs = -1)\n",
    "\n",
    "# start model fittings\n",
    "rf_rgs2 = RandomizedSearchCV(estimator = rf,\n",
    "                           param_distributions = grids,\n",
    "                           n_iter = 20, \n",
    "                           cv = 5,\n",
    "                           verbose = 2 )\n",
    "rf_rgs2.fit(X_rf_train, y_rf_train)"
   ]
  },
  {
   "cell_type": "code",
   "execution_count": null,
   "metadata": {
    "scrolled": true
   },
   "outputs": [],
   "source": [
    "# get best parameters\n",
    "rf_rgs2.best_params_"
   ]
  },
  {
   "cell_type": "code",
   "execution_count": null,
   "metadata": {},
   "outputs": [],
   "source": [
    "evaluation_matric(X_test=X_rf_test, y_test=y_rf_test, model= rf_rgs2)"
   ]
  },
  {
   "cell_type": "code",
   "execution_count": null,
   "metadata": {},
   "outputs": [],
   "source": [
    "# show difference between prediction and actual value\n",
    "cmp_rf = pd.DataFrame()\n",
    "y_rf_preds = rf_rgs2.predict(X_rf_test)\n",
    "cmp_rf.insert(0, 'y_preds', y_rf_preds)\n",
    "y_test_rf = y_rf_test.reset_index()\n",
    "cmp_rf.insert(1, 'y_test', y_test_rf.loc[:, [\"total_sales_price\"]])\n",
    "cmp_rf.loc[:, ['diff']] = cmp_rf[\"y_preds\"] - cmp_rf[\"y_test\"]\n",
    "cmp_rf"
   ]
  },
  {
   "cell_type": "code",
   "execution_count": null,
   "metadata": {},
   "outputs": [],
   "source": [
    "cmp_rf.describe()"
   ]
  },
  {
   "cell_type": "markdown",
   "metadata": {},
   "source": [
    "# Score summary plot"
   ]
  },
  {
   "cell_type": "code",
   "execution_count": null,
   "metadata": {},
   "outputs": [],
   "source": [
    "# create score comparison table\n",
    "lr_metrics = evaluation_matric(X_test=X_lr_test, y_test=y_lr_test, model= lr_rgs_A)\n",
    "rf1_metrics = evaluation_matric(X_test=X_rf_test, y_test=y_rf_test, model= rf_rgs1)\n",
    "rf2_metrics = evaluation_matric(X_test=X_rf_test, y_test=y_rf_test, model= rf_rgs2)\n",
    "\n",
    "compare_metrics = pd.DataFrame({\n",
    "    \"LinearRegression\" : lr_metrics,\n",
    "    \"RandomForestRegressor\" : rf1_metrics,\n",
    "    \"RandomForestRegressor (tuned)\" : rf2_metrics\n",
    "})\n",
    "\n",
    "compare_metrics"
   ]
  },
  {
   "cell_type": "code",
   "execution_count": 85,
   "metadata": {},
   "outputs": [],
   "source": [
    "compare_metrics = compare_metrics.T"
   ]
  },
  {
   "cell_type": "code",
   "execution_count": 86,
   "metadata": {
    "scrolled": false
   },
   "outputs": [
    {
     "data": {
      "text/plain": [
       "[Text(0, 0.5, 'MSE')]"
      ]
     },
     "execution_count": 86,
     "metadata": {},
     "output_type": "execute_result"
    },
    {
     "data": {
      "image/png": "[encoded data removed]",
      "text/plain": [
       "<Figure size 800x1500 with 3 Axes>"
      ]
     },
     "metadata": {},
     "output_type": "display_data"
    }
   ],
   "source": [
    "# plot score comparision\n",
    "fig, (ax0, ax1, ax2) = plt.subplots(nrows = 3, ncols = 1, figsize = (8,15))\n",
    "\n",
    "ax0.bar(compare_metrics.index,compare_metrics[\"R2\"])\n",
    "ax0.set(ylabel = \"R2 score\")\n",
    "\n",
    "ax1.bar(compare_metrics.index,compare_metrics[\"MAE\"])\n",
    "ax1.set(ylabel = \"MAE\")\n",
    "\n",
    "ax2.bar(compare_metrics.index,compare_metrics[\"MSE\"])\n",
    "ax2.set(ylabel = \"MSE\")"
   ]
  },
  {
   "cell_type": "code",
   "execution_count": 87,
   "metadata": {},
   "outputs": [
    {
     "data": {
      "text/html": [
       "<div>\n",
       "<style scoped>\n",
       "    .dataframe tbody tr th:only-of-type {\n",
       "        vertical-align: middle;\n",
       "    }\n",
       "\n",
       "    .dataframe tbody tr th {\n",
       "        vertical-align: top;\n",
       "    }\n",
       "\n",
       "    .dataframe thead th {\n",
       "        text-align: right;\n",
       "    }\n",
       "</style>\n",
       "<table border=\"1\" class=\"dataframe\">\n",
       "  <thead>\n",
       "    <tr style=\"text-align: right;\">\n",
       "      <th></th>\n",
       "      <th>R2</th>\n",
       "      <th>MAE</th>\n",
       "      <th>MSE</th>\n",
       "    </tr>\n",
       "  </thead>\n",
       "  <tbody>\n",
       "    <tr>\n",
       "      <th>LinearRegression</th>\n",
       "      <td>0.623292</td>\n",
       "      <td>3828.340353</td>\n",
       "      <td>2.732768e+08</td>\n",
       "    </tr>\n",
       "    <tr>\n",
       "      <th>RandomForestRegressor</th>\n",
       "      <td>0.834112</td>\n",
       "      <td>982.599111</td>\n",
       "      <td>1.203407e+08</td>\n",
       "    </tr>\n",
       "    <tr>\n",
       "      <th>RandomForestRegressor (tuned)</th>\n",
       "      <td>0.844616</td>\n",
       "      <td>960.813229</td>\n",
       "      <td>1.127209e+08</td>\n",
       "    </tr>\n",
       "  </tbody>\n",
       "</table>\n",
       "</div>"
      ],
      "text/plain": [
       "                                     R2          MAE           MSE\n",
       "LinearRegression               0.623292  3828.340353  2.732768e+08\n",
       "RandomForestRegressor          0.834112   982.599111  1.203407e+08\n",
       "RandomForestRegressor (tuned)  0.844616   960.813229  1.127209e+08"
      ]
     },
     "execution_count": 87,
     "metadata": {},
     "output_type": "execute_result"
    }
   ],
   "source": [
    "compare_metrics"
   ]
  },
  {
   "cell_type": "markdown",
   "metadata": {},
   "source": [
    "the best estimator for this dataset's regression is RandomForestRegressor with hyperparameter tuning. <br>\n",
    "It has 0.8438 score (R-square), 973.73 mean absolute error, and 113300651 mean square error."
   ]
  }
 ],
 "metadata": {
  "datalore": {
   "base_environment": "default",
   "computation_mode": "JUPYTER",
   "package_manager": "pip",
   "packages": [
    {
     "name": "matplotlib",
     "source": "PIP",
     "version": "3.7.1"
    },
    {
     "name": "pandas",
     "source": "PIP",
     "version": "2.0.1"
    },
    {
     "name": "numpy",
     "source": "PIP",
     "version": "1.24.3"
    },
    {
     "name": "seaborn",
     "source": "PIP",
     "version": "0.12.2"
    }
   ],
   "report_row_ids": [
    "VPgQOcNTFm2SNBMXH4vqAv",
    "TpxgnCfiu7EhSVAIwUnRmJ",
    "jiQ5QUAeMjJVF1hYhcMYTR",
    "MymNACKUK84ElTeykDrqn0",
    "kkgic2zAa4uaP3c7Jma8hf",
    "RHSn9VdRReaCOj3E0afuFz",
    "Twz0KZNzOazW1QSyvPodAH",
    "tXKkC6eAZs3J5i5JBsIxTJ",
    "bBmdjY0YOpo6jI6H1jlF4z",
    "WCQhoR5WxKobuPqC2zfDyB",
    "EMrP7uk4JSUjGQdq34YnNn",
    "FIsSeS5tLCmpm63h81WIqL",
    "s3KVqRtDVddRkgMgYJRjDu",
    "RXZhxGUpctPoJOVgfDzXuC",
    "L3EuVXkJtFrzQzZNP6TIrQ",
    "SduTzXLgxpyF3nbuCo3syv",
    "mcii5r1bRe8OZff2zfVwYT",
    "nSOd9NGLgOt6ywZ3PeeyFn",
    "q3LNWpeSN69liSoDtN9GS8",
    "BrZ2naL1LPg6wcIsbzVNJ2",
    "PL0gaclLSS1Nf2nO6Av0yU",
    "moOzx1SASwmNRo2JAyecmn",
    "mFnYXypPTf1Ys6Q7onXPXS",
    "qT4iJ6ScxjvI7Szml6wHiI",
    "GzGoskv6uSH4nVzVUem7Fv",
    "UYXG0ywCZFwdBVpsofzF0V",
    "hk0lXFBi8zcXvEZ8WHCq4D",
    "PKwh8pj0XTtGfPMmujoegl",
    "HiD3nucKQXqxmrJlbKQkKo",
    "RHQh9UGpLIqVux8wrdkL0U",
    "zXT4HNnqzBar29GZvXheBt",
    "Gl32u1noYeJtUNC2CTIFfA",
    "rmT8QHO38G4WhkQvhSC7LD",
    "3mCpx6rs6bqTt7ERi0Wms8",
    "qMkCMvt95kDYlAmvSVN50F",
    "fJ3gOldueJ9bajXKrk9NTC",
    "ZptSA8j5grEVuE1SntVGSO",
    "gKQgPMW9tMEeuZgwk88MnQ",
    "qKUf4aEBdvOEPT21oUItIQ",
    "eco2nfszAciLXuAqFQo4yM",
    "o8nLeEEltcgr6nGXJ4HrT8",
    "cEYoon7Ad37wmtigN2wofB",
    "CF74TXExSeToAgDUTDDzos",
    "yU3F6gbgUPa6R8mYaaXTR3",
    "g4Rz0vhAZgiYNmrcbiBANM",
    "C5xOafjHnh2atqd8A6cg5b",
    "qLQ0T1eRybxX5tcrw9P9WC",
    "dr3jcqhvGYXaP7bbJN8XuS",
    "69mMXisTFQffr9Dr9vAZ6a",
    "NLj8Ue0QGdflHHt70x1kN3",
    "fV2mZhxFXViSAtd0AQAQXk",
    "1EvUPohg3jKylaTxZeAWmJ",
    "gtAJZmAlZrL3vahJfeeYd8",
    "BSTxKnFFD0846DGLBvl0sm",
    "BuSDdRwKAGmvPZVU5w5GMF",
    "lV8cYaDGnkApiLMvstggxV",
    "QSAfwi3zbgBu3ICQHzQehW",
    "ofieakK4IHDqaLRnxiZRq8",
    "DYzVMRhrTRC5RGF8Ea2xKW",
    "wS7Dio5frbM5cixmIvxxRc",
    "UwdBDNV1rKsr1SDahl4I5e",
    "NnYFIg7bMcdqisC2SViG84",
    "5UR7ehJ8K7iWXm1w0cr9FX",
    "y26XudP4JMo50K5cgfyPq9",
    "cqpuRvhZ1Xlv9AG21Ia0Am",
    "wVAClw41gwjfcTv4SMrBSJ",
    "QVuVovkumltzfZyEUCgzce",
    "RKIoEoUtywbGkIel1It47m",
    "NmAHWZ4VSszJ7lkKiPDvaj",
    "IRUTaw0zdiVkpc4UMddFGT",
    "DrHKx4wsq82OIbFIS5bTdH",
    "Tm2MMwTI0zTDJOLs0ko1Ak",
    "74tiK5tHufpw2fIlloa9Rq",
    "OY4gJviylV2RtHQB04vvL6",
    "xFHY6Ovt4WXJR5cdzkDQM3",
    "Jo8GNExrfcFQQREoAe0LeE",
    "R0GxTwyoB1NZr1fypncMP3",
    "Vje8oUHablsRO9dfMJAkwL",
    "764TDXDGfG90Bc9decyB9z",
    "bkupkG6vF6VMHLerpg1CE3",
    "vSdvGyd10pwZXWs4ckl7o4",
    "jXOPAlgFxNwdHHBK8NI2yN",
    "R5DhzmFiB73Z8nvggcZViE",
    "HXiID6oQkY8GMXvNQbRXEc",
    "qHh2yBlsHku7byp4x8J7aH",
    "LHDQDj1ELGUF6QSAbqSKvY",
    "iZIKoJiles0kRN4Upwhz3O",
    "aZOg5hHej74R400aEP73tN",
    "PhoJbvGS25mCU75iKfu9qr",
    "CtQBVq3EAVy3GVMja7p3ym",
    "qKnAb1sYSY91rcAbp5QqSl",
    "k2XfiK52Lax8uW8vKZHdDD",
    "7y7sPB0lFx7K75rSlqyycw",
    "vnzqh8OiRwnWUbBDu3ccgF",
    "3KPiqJfXznoLy0xbPxpjJ9",
    "W6J72HlnXXB511cafXYtZB",
    "DGTCzCcYDBF3jPg4lgj0AP",
    "zcFrMgnY116FCqeEaztNxa",
    "4KscP1FT2drDMFfD9CinVQ",
    "puC7l0a8GGfQLwCb2oUlxb",
    "JY7LHihcll1NkgIOMgjaDn",
    "XQWuFbn2gbVGIvI2HUpKbx",
    "sZiU5zAex8KXDU5FRikBiX"
   ],
   "version": 3
  },
  "kernelspec": {
   "display_name": "Python 3 (ipykernel)",
   "language": "python",
   "name": "python3"
  },
  "language_info": {
   "codemirror_mode": {
    "name": "ipython",
    "version": 3
   },
   "file_extension": ".py",
   "mimetype": "text/x-python",
   "name": "python",
   "nbconvert_exporter": "python",
   "pygments_lexer": "ipython3",
   "version": "3.11.1"
  }
 },
 "nbformat": 4,
 "nbformat_minor": 4
}
